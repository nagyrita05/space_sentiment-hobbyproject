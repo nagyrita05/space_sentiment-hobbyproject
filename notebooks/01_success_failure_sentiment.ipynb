{
 "cells": [
  {
   "cell_type": "markdown",
   "id": "c6dbfb16-49d2-4990-a1f4-f1907883a08f",
   "metadata": {},
   "source": [
    "# „Hiszem, ha látom – Az űrkutatás médiaképe a hírcímek tükrében”"
   ]
  },
  {
   "cell_type": "markdown",
   "id": "ccf1b192-7532-48f7-80a5-e78cd60b2972",
   "metadata": {},
   "source": [
    "*Adat vs érzés: Nem elméleti alapon mondjuk meg, milyen a hangulat az űrkutatás körül, hanem valódi hírcímek elemzéséből.*"
   ]
  },
  {
   "cell_type": "markdown",
   "id": "d2cd2d2b-2868-470c-8797-65a21962b3c4",
   "metadata": {},
   "source": [
    "*Ebben a projektben az űrkutatás médiaképét vizsgáltam négy altémában (siker/kudarc, technológia/indítások, Hold/Mars, politika/finanszírozás), és azt mutatom meg, hogyan különbözik az országok hangulata az egyes területeken – vizualizációval és példacímekkel alátámasztva.*"
   ]
  },
  {
   "cell_type": "markdown",
   "id": "5ed1e7d8-6e3a-4958-9e32-c1ebba36f21b",
   "metadata": {},
   "source": [
    "### Módszertan\n",
    "\n",
    "Az elemzés több lépésből épül fel, amelyeket minden altémánál azonos logika szerint ismételtem meg:\n",
    "\n",
    "Első lépésben országonként gyűjtöttem össze a hírcímeket RSS-csatornákból, majd kulcsszavak segítségével kiszűrtem az adott altémához tartozó cikkeket. Az angol nyelvű hírek érzelemelemzésére a VADER modellt használtam, míg a nem angol nyelvű esetekben egy többnyelvű Transformer-modell adott megbízható eredményt. Az így kapott adatokból országonként számítottam mediánt, átlagot, valamint pozitív és negatív arányokat, amelyek alapján különböző interaktív térképeket és ábrákat készítettem. Az elemzés végén az angol és nem angol adatok összefűzésével egy teljesebb, globális képet kaptunk az adott altéma médiamegjelenéseiről."
   ]
  },
  {
   "cell_type": "markdown",
   "id": "b5645e60-6db9-408f-b638-1b81f9f9ac01",
   "metadata": {},
   "source": [
    "___1. ALTÉMA: SIKER VS KUDARC___"
   ]
  },
  {
   "cell_type": "markdown",
   "id": "3157ae26-07f1-4571-8e81-ae8c945ce7b2",
   "metadata": {},
   "source": [
    "*0) Importok és beállítások*\n",
    "\n",
    "\n",
    "Betöltjük a `utils.py` segédfüggvényeit (letöltés, érzelemelemzés, aggregálás, térkép), \n",
    "beállítjuk a `TOPIC_NAME`-t és a cache módot (`USE_CACHE`). A VADER lexikont egyszer letöltjük."
   ]
  },
  {
   "cell_type": "code",
   "execution_count": 1,
   "id": "9817e1c4-56c7-42f8-aaf0-402d4f601e56",
   "metadata": {},
   "outputs": [],
   "source": [
    "# --- 0) IMPORTOK ÉS BEÁLLÍTÁSOK ---\n",
    "\n",
    "from utils import (\n",
    "    countries, non_english_countries, iso2_to_iso3,\n",
    "    get_countries_df, add_iso3,\n",
    "    fetch_gnews_for_countries,\n",
    "    score_sentiment_vader, load_xlmr_model, predict_sentiment_batch_xlmr,\n",
    "    make_country_aggregates, plot_four_maps_for_topic, top_examples_all\n",
    ")\n",
    "\n",
    "# VADER lexikon (EN-hez)\n",
    "import nltk\n",
    "nltk.download('vader_lexicon', quiet=True)\n",
    "\n",
    "TOPIC_NAME = \"success_failure\"   # vagy: tech_launch / moon_mars / politics_finance\n",
    "USE_CACHE  = True                # ha van korábbi CSV, onnan olvas\n"
   ]
  },
  {
   "cell_type": "markdown",
   "id": "a94a7543-a61d-4365-8c27-94cd6a74a653",
   "metadata": {},
   "source": [
    "*1) Adatgyűjtés - keresőkifejezések*\n",
    "\n",
    "\n",
    "A `topic_query` kulcsszólista az altéma tartalmát fedi le. Ezt adjuk át a Google News RSS-nek.  \n",
    "Opcionálisan kizárhatunk zajos szavakat is (pl. `-rumor -speculation`), ha túl sok a zavaró találat."
   ]
  },
  {
   "cell_type": "code",
   "execution_count": 2,
   "id": "56e088f7-c41f-4c21-a7bf-5db73e3c4f5f",
   "metadata": {},
   "outputs": [],
   "source": [
    "# --- 1) KERESŐKIFEJEZÉSEK: base (ld. űrkutatás) + theme: Siker/Kudarc (ld. altéma) ---\n",
    "\n",
    "TOPIC_NAME = \"success_failure\"\n",
    "\n",
    "base_terms = [\n",
    "    '\"space exploration\"', '\"space mission\"', '\"space flight\"',\n",
    "    'NASA','ESA','SpaceX','Blue Origin','ISRO','Roscosmos',\n",
    "    'satellite','telescope','rocket','lunar','moon','mars','rover'\n",
    "]\n",
    "theme_terms = [\n",
    "    'success','successful','milestone',   # pozitív\n",
    "    'failure','scrubbed','delayed','exploded'  # negatív/kudarc\n",
    "]\n",
    "topic_base = \" OR \".join(base_terms)\n",
    "topic_theme = \" OR \".join(theme_terms)\n",
    "topic_query = f\"({topic_base}) OR ({topic_theme})\""
   ]
  },
  {
   "cell_type": "markdown",
   "id": "1c3107ef-0e5f-490f-ae8c-89368b7f94da",
   "metadata": {},
   "source": [
    "*2) Adatgyűjtés - Angol hírek lekérése + VADER*\n",
    "- országonként lekérjük a hírcímeket (`fetch_gnews_for_countries`),\n",
    "- nyersen elmentjük CSV-be (backup),\n",
    "- VADER-rel pontozzuk a címeket (−1..+1),\n",
    "- kategorizálunk (positive / neutral / negative),\n",
    "- hozzáadjuk az ISO3 kódot a térképekhez,\n",
    "- feldolgozott CSV-be mentjük (Power BI-hoz is jó).\n",
    "Ha `USE_CACHE=True` és létezik a feldolgozott CSV, akkor csak betöltünk."
   ]
  },
  {
   "cell_type": "code",
   "execution_count": 3,
   "id": "54490cff-84c8-4966-bfe7-982f3c8cf9d0",
   "metadata": {},
   "outputs": [],
   "source": [
    "# --- 2) Angol hírek lekérése - VADER ---\n",
    "\n",
    "import os, pandas as pd\n",
    "en_raw  = f\"data/raw/{TOPIC_NAME}_en_raw.csv\"\n",
    "en_proc = f\"data/processed/{TOPIC_NAME}_en.csv\"\n",
    "os.makedirs(\"data/raw\", exist_ok=True); os.makedirs(\"data/processed\", exist_ok=True)\n",
    "\n",
    "if USE_CACHE and os.path.exists(en_proc):\n",
    "    news_en = pd.read_csv(en_proc)\n",
    "else:\n",
    "    news_en = fetch_gnews_for_countries(topic_query, countries, limit=120, source_lang=\"EN\")\n",
    "    news_en.to_csv(en_raw, index=False)  # nyers\n",
    "\n",
    "    news_en[\"sentiment\"] = news_en[\"title\"].apply(score_sentiment_vader)\n",
    "    news_en[\"sentiment_label\"] = news_en[\"sentiment\"].apply(\n",
    "        lambda x: \"positive\" if x>=0.2 else (\"negative\" if x<=-0.2 else \"neutral\")\n",
    "    )\n",
    "    news_en = add_iso3(news_en, \"iso2\")\n",
    "    news_en.to_csv(en_proc, index=False)  # feldolgozott"
   ]
  },
  {
   "cell_type": "markdown",
   "id": "24e7ded1-b89c-43f3-a7dd-3096fbc73a54",
   "metadata": {},
   "source": [
    "*3) Adatgyűjtés - nem angol hírek + XLM-R*\n",
    "- országonként letöltjük a cikkeket, nyersen mentjük,\n",
    "- többnyelvű XLM-R modellel címkézzük (negative/neutral/positive),\n",
    "- −1/0/+1 értékre mappoljuk,\n",
    "- ISO3 kódot adunk, feldolgozott CSV-be mentjük.\n",
    "Cache esetén csak beolvasunk."
   ]
  },
  {
   "cell_type": "code",
   "execution_count": 4,
   "id": "bc3fe7d8-52a4-48cf-bfad-24fa667ccaae",
   "metadata": {},
   "outputs": [],
   "source": [
    "# --- 3) Nem angol nyelvű hírek - XLM-R ---\n",
    "\n",
    "\n",
    "non_raw  = f\"data/raw/{TOPIC_NAME}_non_en_raw.csv\"\n",
    "non_proc = f\"data/processed/{TOPIC_NAME}_non_en.csv\"\n",
    "\n",
    "if USE_CACHE and os.path.exists(non_proc):\n",
    "    news_non = pd.read_csv(non_proc)\n",
    "else:\n",
    "    news_non = fetch_gnews_for_countries(topic_query, non_english_countries, limit=120, source_lang=\"NON_EN\")\n",
    "    news_non.to_csv(non_raw, index=False)\n",
    "\n",
    "    tok, mdl, device = load_xlmr_model()\n",
    "    news_non[\"sentiment_label\"] = predict_sentiment_batch_xlmr(news_non[\"title\"].tolist(), tok, mdl, device)\n",
    "    news_non[\"sentiment\"] = news_non[\"sentiment_label\"].map({\"negative\":-1.0,\"neutral\":0.0,\"positive\":1.0})\n",
    "    news_non = add_iso3(news_non, \"iso2\")\n",
    "    news_non.to_csv(non_proc, index=False)\n"
   ]
  },
  {
   "cell_type": "markdown",
   "id": "6c80195e-34af-4286-ba87-6aa0de261b37",
   "metadata": {},
   "source": [
    "*4) Összefűzés + (opcionális) EN pont átskálázás*\n",
    "\n",
    "\n",
    "Összerakjuk az EN és NON-EN adatokat egy `all_news` táblába.  \n",
    "Ha országonkénti mediánt/átlagot -1/0/+1 skálán akarunk, az EN pontszámot is ilyen skálára \n",
    "mappoljuk (küszöb: ±0.2). Ez stabilabb összevetést ad."
   ]
  },
  {
   "cell_type": "code",
   "execution_count": 5,
   "id": "de743419-90fb-4aa1-bfcf-9fe4b91ec05a",
   "metadata": {},
   "outputs": [],
   "source": [
    "# --- 4) ÖSSZEFŰZÉS ---\n",
    "\n",
    "all_news = pd.concat([news_en, news_non], ignore_index=True)\n",
    "\n",
    "# ha kombinált mediánt/átlagot szeretnénk -1/0/+1-en: EN átskálázása\n",
    "def to_combo(row):\n",
    "    if row[\"source_lang\"] == \"EN\":\n",
    "        x = row[\"sentiment\"]\n",
    "        return 1.0 if x>=0.2 else (-1.0 if x<=-0.2 else 0.0)\n",
    "    return row[\"sentiment\"]\n",
    "\n",
    "all_news[\"sentiment\"] = all_news.apply(to_combo, axis=1)"
   ]
  },
  {
   "cell_type": "markdown",
   "id": "4ac346fb-f59c-4f58-83bc-a85774b45985",
   "metadata": {},
   "source": [
    "*5) Kibővített vizualizáció (4 térkép) + CSV-k*\n",
    "\n",
    "\n",
    "Négy interaktív térképet: országonkénti medián, átlag, pozitív arány, negatív arány.  \n",
    "Az eredményeket CSV-be is mentjük, hogy Power BI-ban felhasználhassuk."
   ]
  },
  {
   "cell_type": "code",
   "execution_count": 6,
   "id": "b85733c1-aa4e-46be-8442-5f1d52ec72a4",
   "metadata": {},
   "outputs": [
    {
     "data": {
      "application/vnd.plotly.v1+json": {
       "config": {
        "plotlyServerURL": "https://plot.ly"
       },
       "data": [
        {
         "coloraxis": "coloraxis",
         "geo": "geo",
         "hovertemplate": "<b>%{hovertext}</b><br><br>iso3=%{location}<br>median_sentiment=%{z}<extra></extra>",
         "hovertext": [
          "Australia",
          "Canada",
          "China",
          "France",
          "Germany",
          "India",
          "Ireland",
          "Kenya",
          "New Zealand",
          "Pakistan",
          "Philippines",
          "Russia",
          "Singapore",
          "South Africa",
          "Spain",
          "United Kingdom",
          "United States"
         ],
         "locations": [
          "AUS",
          "CAN",
          "CHN",
          "FRA",
          "DEU",
          "IND",
          "IRL",
          "KEN",
          "NZL",
          "PAK",
          "PHL",
          "RUS",
          "SGP",
          "ZAF",
          "ESP",
          "GBR",
          "USA"
         ],
         "name": "",
         "type": "choropleth",
         "z": {
          "_inputArray": {
           "0": 0,
           "1": 0,
           "10": 0,
           "11": 0,
           "12": 0,
           "13": 0,
           "14": 0,
           "15": 0,
           "16": 0,
           "2": 0,
           "3": 0,
           "4": 0,
           "5": 0,
           "6": 0,
           "7": 0,
           "8": 0,
           "9": 0,
           "bdata": "AAAAAAAAAAAAAAAAAAAAAAAAAAAAAAAAAAAAAAAAAAAAAAAAAAAAAAAAAAAAAAAAAAAAAAAAAAAAAAAAAAAAAAAAAAAAAAAAAAAAAAAAAAAAAAAAAAAAAAAAAAAAAAAAAAAAAAAAAAAAAAAAAAAAAAAAAAAAAAAAAAAAAAAAAAAAAAAAAAAAAA==",
           "dtype": "f8",
           "shape": "17"
          },
          "bdata": "AAAAAAAAAAAAAAAAAAAAAAAAAAAAAAAAAAAAAAAAAAAAAAAAAAAAAAAAAAAAAAAAAAAAAAAAAAAAAAAAAAAAAAAAAAAAAAAAAAAAAAAAAAAAAAAAAAAAAAAAAAAAAAAAAAAAAAAAAAAAAAAAAAAAAAAAAAAAAAAAAAAAAAAAAAAAAAAAAAAAAA==",
          "dtype": "f8"
         }
        }
       ],
       "layout": {
        "autosize": true,
        "coloraxis": {
         "cmax": 0,
         "cmin": 0,
         "colorbar": {
          "title": {
           "text": "median_sentiment"
          }
         },
         "colorscale": [
          [
           0,
           "rgb(165,0,38)"
          ],
          [
           0.1,
           "rgb(215,48,39)"
          ],
          [
           0.2,
           "rgb(244,109,67)"
          ],
          [
           0.3,
           "rgb(253,174,97)"
          ],
          [
           0.4,
           "rgb(254,224,139)"
          ],
          [
           0.5,
           "rgb(255,255,191)"
          ],
          [
           0.6,
           "rgb(217,239,139)"
          ],
          [
           0.7,
           "rgb(166,217,106)"
          ],
          [
           0.8,
           "rgb(102,189,99)"
          ],
          [
           0.9,
           "rgb(26,152,80)"
          ],
          [
           1,
           "rgb(0,104,55)"
          ]
         ]
        },
        "geo": {
         "center": {},
         "domain": {
          "x": [
           0,
           1
          ],
          "y": [
           0,
           1
          ]
         }
        },
        "legend": {
         "tracegroupgap": 0
        },
        "template": {
         "data": {
          "bar": [
           {
            "error_x": {
             "color": "#2a3f5f"
            },
            "error_y": {
             "color": "#2a3f5f"
            },
            "marker": {
             "line": {
              "color": "#E5ECF6",
              "width": 0.5
             },
             "pattern": {
              "fillmode": "overlay",
              "size": 10,
              "solidity": 0.2
             }
            },
            "type": "bar"
           }
          ],
          "barpolar": [
           {
            "marker": {
             "line": {
              "color": "#E5ECF6",
              "width": 0.5
             },
             "pattern": {
              "fillmode": "overlay",
              "size": 10,
              "solidity": 0.2
             }
            },
            "type": "barpolar"
           }
          ],
          "carpet": [
           {
            "aaxis": {
             "endlinecolor": "#2a3f5f",
             "gridcolor": "white",
             "linecolor": "white",
             "minorgridcolor": "white",
             "startlinecolor": "#2a3f5f"
            },
            "baxis": {
             "endlinecolor": "#2a3f5f",
             "gridcolor": "white",
             "linecolor": "white",
             "minorgridcolor": "white",
             "startlinecolor": "#2a3f5f"
            },
            "type": "carpet"
           }
          ],
          "choropleth": [
           {
            "colorbar": {
             "outlinewidth": 0,
             "ticks": ""
            },
            "type": "choropleth"
           }
          ],
          "contour": [
           {
            "colorbar": {
             "outlinewidth": 0,
             "ticks": ""
            },
            "colorscale": [
             [
              0,
              "#0d0887"
             ],
             [
              0.1111111111111111,
              "#46039f"
             ],
             [
              0.2222222222222222,
              "#7201a8"
             ],
             [
              0.3333333333333333,
              "#9c179e"
             ],
             [
              0.4444444444444444,
              "#bd3786"
             ],
             [
              0.5555555555555556,
              "#d8576b"
             ],
             [
              0.6666666666666666,
              "#ed7953"
             ],
             [
              0.7777777777777778,
              "#fb9f3a"
             ],
             [
              0.8888888888888888,
              "#fdca26"
             ],
             [
              1,
              "#f0f921"
             ]
            ],
            "type": "contour"
           }
          ],
          "contourcarpet": [
           {
            "colorbar": {
             "outlinewidth": 0,
             "ticks": ""
            },
            "type": "contourcarpet"
           }
          ],
          "heatmap": [
           {
            "colorbar": {
             "outlinewidth": 0,
             "ticks": ""
            },
            "colorscale": [
             [
              0,
              "#0d0887"
             ],
             [
              0.1111111111111111,
              "#46039f"
             ],
             [
              0.2222222222222222,
              "#7201a8"
             ],
             [
              0.3333333333333333,
              "#9c179e"
             ],
             [
              0.4444444444444444,
              "#bd3786"
             ],
             [
              0.5555555555555556,
              "#d8576b"
             ],
             [
              0.6666666666666666,
              "#ed7953"
             ],
             [
              0.7777777777777778,
              "#fb9f3a"
             ],
             [
              0.8888888888888888,
              "#fdca26"
             ],
             [
              1,
              "#f0f921"
             ]
            ],
            "type": "heatmap"
           }
          ],
          "histogram": [
           {
            "marker": {
             "pattern": {
              "fillmode": "overlay",
              "size": 10,
              "solidity": 0.2
             }
            },
            "type": "histogram"
           }
          ],
          "histogram2d": [
           {
            "colorbar": {
             "outlinewidth": 0,
             "ticks": ""
            },
            "colorscale": [
             [
              0,
              "#0d0887"
             ],
             [
              0.1111111111111111,
              "#46039f"
             ],
             [
              0.2222222222222222,
              "#7201a8"
             ],
             [
              0.3333333333333333,
              "#9c179e"
             ],
             [
              0.4444444444444444,
              "#bd3786"
             ],
             [
              0.5555555555555556,
              "#d8576b"
             ],
             [
              0.6666666666666666,
              "#ed7953"
             ],
             [
              0.7777777777777778,
              "#fb9f3a"
             ],
             [
              0.8888888888888888,
              "#fdca26"
             ],
             [
              1,
              "#f0f921"
             ]
            ],
            "type": "histogram2d"
           }
          ],
          "histogram2dcontour": [
           {
            "colorbar": {
             "outlinewidth": 0,
             "ticks": ""
            },
            "colorscale": [
             [
              0,
              "#0d0887"
             ],
             [
              0.1111111111111111,
              "#46039f"
             ],
             [
              0.2222222222222222,
              "#7201a8"
             ],
             [
              0.3333333333333333,
              "#9c179e"
             ],
             [
              0.4444444444444444,
              "#bd3786"
             ],
             [
              0.5555555555555556,
              "#d8576b"
             ],
             [
              0.6666666666666666,
              "#ed7953"
             ],
             [
              0.7777777777777778,
              "#fb9f3a"
             ],
             [
              0.8888888888888888,
              "#fdca26"
             ],
             [
              1,
              "#f0f921"
             ]
            ],
            "type": "histogram2dcontour"
           }
          ],
          "mesh3d": [
           {
            "colorbar": {
             "outlinewidth": 0,
             "ticks": ""
            },
            "type": "mesh3d"
           }
          ],
          "parcoords": [
           {
            "line": {
             "colorbar": {
              "outlinewidth": 0,
              "ticks": ""
             }
            },
            "type": "parcoords"
           }
          ],
          "pie": [
           {
            "automargin": true,
            "type": "pie"
           }
          ],
          "scatter": [
           {
            "fillpattern": {
             "fillmode": "overlay",
             "size": 10,
             "solidity": 0.2
            },
            "type": "scatter"
           }
          ],
          "scatter3d": [
           {
            "line": {
             "colorbar": {
              "outlinewidth": 0,
              "ticks": ""
             }
            },
            "marker": {
             "colorbar": {
              "outlinewidth": 0,
              "ticks": ""
             }
            },
            "type": "scatter3d"
           }
          ],
          "scattercarpet": [
           {
            "marker": {
             "colorbar": {
              "outlinewidth": 0,
              "ticks": ""
             }
            },
            "type": "scattercarpet"
           }
          ],
          "scattergeo": [
           {
            "marker": {
             "colorbar": {
              "outlinewidth": 0,
              "ticks": ""
             }
            },
            "type": "scattergeo"
           }
          ],
          "scattergl": [
           {
            "marker": {
             "colorbar": {
              "outlinewidth": 0,
              "ticks": ""
             }
            },
            "type": "scattergl"
           }
          ],
          "scattermap": [
           {
            "marker": {
             "colorbar": {
              "outlinewidth": 0,
              "ticks": ""
             }
            },
            "type": "scattermap"
           }
          ],
          "scattermapbox": [
           {
            "marker": {
             "colorbar": {
              "outlinewidth": 0,
              "ticks": ""
             }
            },
            "type": "scattermapbox"
           }
          ],
          "scatterpolar": [
           {
            "marker": {
             "colorbar": {
              "outlinewidth": 0,
              "ticks": ""
             }
            },
            "type": "scatterpolar"
           }
          ],
          "scatterpolargl": [
           {
            "marker": {
             "colorbar": {
              "outlinewidth": 0,
              "ticks": ""
             }
            },
            "type": "scatterpolargl"
           }
          ],
          "scatterternary": [
           {
            "marker": {
             "colorbar": {
              "outlinewidth": 0,
              "ticks": ""
             }
            },
            "type": "scatterternary"
           }
          ],
          "surface": [
           {
            "colorbar": {
             "outlinewidth": 0,
             "ticks": ""
            },
            "colorscale": [
             [
              0,
              "#0d0887"
             ],
             [
              0.1111111111111111,
              "#46039f"
             ],
             [
              0.2222222222222222,
              "#7201a8"
             ],
             [
              0.3333333333333333,
              "#9c179e"
             ],
             [
              0.4444444444444444,
              "#bd3786"
             ],
             [
              0.5555555555555556,
              "#d8576b"
             ],
             [
              0.6666666666666666,
              "#ed7953"
             ],
             [
              0.7777777777777778,
              "#fb9f3a"
             ],
             [
              0.8888888888888888,
              "#fdca26"
             ],
             [
              1,
              "#f0f921"
             ]
            ],
            "type": "surface"
           }
          ],
          "table": [
           {
            "cells": {
             "fill": {
              "color": "#EBF0F8"
             },
             "line": {
              "color": "white"
             }
            },
            "header": {
             "fill": {
              "color": "#C8D4E3"
             },
             "line": {
              "color": "white"
             }
            },
            "type": "table"
           }
          ]
         },
         "layout": {
          "annotationdefaults": {
           "arrowcolor": "#2a3f5f",
           "arrowhead": 0,
           "arrowwidth": 1
          },
          "autotypenumbers": "strict",
          "coloraxis": {
           "colorbar": {
            "outlinewidth": 0,
            "ticks": ""
           }
          },
          "colorscale": {
           "diverging": [
            [
             0,
             "#8e0152"
            ],
            [
             0.1,
             "#c51b7d"
            ],
            [
             0.2,
             "#de77ae"
            ],
            [
             0.3,
             "#f1b6da"
            ],
            [
             0.4,
             "#fde0ef"
            ],
            [
             0.5,
             "#f7f7f7"
            ],
            [
             0.6,
             "#e6f5d0"
            ],
            [
             0.7,
             "#b8e186"
            ],
            [
             0.8,
             "#7fbc41"
            ],
            [
             0.9,
             "#4d9221"
            ],
            [
             1,
             "#276419"
            ]
           ],
           "sequential": [
            [
             0,
             "#0d0887"
            ],
            [
             0.1111111111111111,
             "#46039f"
            ],
            [
             0.2222222222222222,
             "#7201a8"
            ],
            [
             0.3333333333333333,
             "#9c179e"
            ],
            [
             0.4444444444444444,
             "#bd3786"
            ],
            [
             0.5555555555555556,
             "#d8576b"
            ],
            [
             0.6666666666666666,
             "#ed7953"
            ],
            [
             0.7777777777777778,
             "#fb9f3a"
            ],
            [
             0.8888888888888888,
             "#fdca26"
            ],
            [
             1,
             "#f0f921"
            ]
           ],
           "sequentialminus": [
            [
             0,
             "#0d0887"
            ],
            [
             0.1111111111111111,
             "#46039f"
            ],
            [
             0.2222222222222222,
             "#7201a8"
            ],
            [
             0.3333333333333333,
             "#9c179e"
            ],
            [
             0.4444444444444444,
             "#bd3786"
            ],
            [
             0.5555555555555556,
             "#d8576b"
            ],
            [
             0.6666666666666666,
             "#ed7953"
            ],
            [
             0.7777777777777778,
             "#fb9f3a"
            ],
            [
             0.8888888888888888,
             "#fdca26"
            ],
            [
             1,
             "#f0f921"
            ]
           ]
          },
          "colorway": [
           "#636efa",
           "#EF553B",
           "#00cc96",
           "#ab63fa",
           "#FFA15A",
           "#19d3f3",
           "#FF6692",
           "#B6E880",
           "#FF97FF",
           "#FECB52"
          ],
          "font": {
           "color": "#2a3f5f"
          },
          "geo": {
           "bgcolor": "white",
           "lakecolor": "white",
           "landcolor": "#E5ECF6",
           "showlakes": true,
           "showland": true,
           "subunitcolor": "white"
          },
          "hoverlabel": {
           "align": "left"
          },
          "hovermode": "closest",
          "mapbox": {
           "style": "light"
          },
          "paper_bgcolor": "white",
          "plot_bgcolor": "#E5ECF6",
          "polar": {
           "angularaxis": {
            "gridcolor": "white",
            "linecolor": "white",
            "ticks": ""
           },
           "bgcolor": "#E5ECF6",
           "radialaxis": {
            "gridcolor": "white",
            "linecolor": "white",
            "ticks": ""
           }
          },
          "scene": {
           "xaxis": {
            "backgroundcolor": "#E5ECF6",
            "gridcolor": "white",
            "gridwidth": 2,
            "linecolor": "white",
            "showbackground": true,
            "ticks": "",
            "zerolinecolor": "white"
           },
           "yaxis": {
            "backgroundcolor": "#E5ECF6",
            "gridcolor": "white",
            "gridwidth": 2,
            "linecolor": "white",
            "showbackground": true,
            "ticks": "",
            "zerolinecolor": "white"
           },
           "zaxis": {
            "backgroundcolor": "#E5ECF6",
            "gridcolor": "white",
            "gridwidth": 2,
            "linecolor": "white",
            "showbackground": true,
            "ticks": "",
            "zerolinecolor": "white"
           }
          },
          "shapedefaults": {
           "line": {
            "color": "#2a3f5f"
           }
          },
          "ternary": {
           "aaxis": {
            "gridcolor": "white",
            "linecolor": "white",
            "ticks": ""
           },
           "baxis": {
            "gridcolor": "white",
            "linecolor": "white",
            "ticks": ""
           },
           "bgcolor": "#E5ECF6",
           "caxis": {
            "gridcolor": "white",
            "linecolor": "white",
            "ticks": ""
           }
          },
          "title": {
           "x": 0.05
          },
          "xaxis": {
           "automargin": true,
           "gridcolor": "white",
           "linecolor": "white",
           "ticks": "",
           "title": {
            "standoff": 15
           },
           "zerolinecolor": "white",
           "zerolinewidth": 2
          },
          "yaxis": {
           "automargin": true,
           "gridcolor": "white",
           "linecolor": "white",
           "ticks": "",
           "title": {
            "standoff": 15
           },
           "zerolinecolor": "white",
           "zerolinewidth": 2
          }
         }
        },
        "title": {
         "text": "success_failure – Median sentiment (EN + NON_EN)"
        }
       }
      },
      "image/png": "[encoded data removed]"
     },
     "metadata": {},
     "output_type": "display_data"
    },
    {
     "data": {
      "application/vnd.plotly.v1+json": {
       "config": {
        "plotlyServerURL": "https://plot.ly"
       },
       "data": [
        {
         "coloraxis": "coloraxis",
         "geo": "geo",
         "hovertemplate": "<b>%{hovertext}</b><br><br>iso3=%{location}<br>mean_sentiment=%{z}<extra></extra>",
         "hovertext": [
          "Australia",
          "Canada",
          "China",
          "France",
          "Germany",
          "India",
          "Ireland",
          "Kenya",
          "New Zealand",
          "Pakistan",
          "Philippines",
          "Russia",
          "Singapore",
          "South Africa",
          "Spain",
          "United Kingdom",
          "United States"
         ],
         "locations": [
          "AUS",
          "CAN",
          "CHN",
          "FRA",
          "DEU",
          "IND",
          "IRL",
          "KEN",
          "NZL",
          "PAK",
          "PHL",
          "RUS",
          "SGP",
          "ZAF",
          "ESP",
          "GBR",
          "USA"
         ],
         "name": "",
         "type": "choropleth",
         "z": {
          "_inputArray": {
           "0": 0.3333333333333333,
           "1": 0.2222222222222222,
           "10": 0,
           "11": 0.12,
           "12": 0.2,
           "13": -0.022727272727272728,
           "14": 0.18,
           "15": 0.14814814814814814,
           "16": 0.11,
           "2": 0.07042253521126761,
           "3": 0.18,
           "4": 0.02,
           "5": 0.14285714285714285,
           "6": -0.14285714285714285,
           "7": 0,
           "8": 0.3333333333333333,
           "9": 0,
           "bdata": "VVVVVVVV1T8cx3Ecx3HMP+dAohU2B7I/CtejcD0Kxz97FK5H4XqUP5IkSZIkScI/kiRJkiRJwr8AAAAAAAAAAFVVVVVVVdU/AAAAAAAAAAAAAAAAAAAAALgehetRuL4/mpmZmZmZyT9GF1100UWXvwrXo3A9Csc/aC+hvYT2wj8pXI/C9Si8Pw==",
           "dtype": "f8",
           "shape": "17"
          },
          "bdata": "VVVVVVVV1T8cx3Ecx3HMP+dAohU2B7I/CtejcD0Kxz97FK5H4XqUP5IkSZIkScI/kiRJkiRJwr8AAAAAAAAAAFVVVVVVVdU/AAAAAAAAAAAAAAAAAAAAALgehetRuL4/mpmZmZmZyT9GF1100UWXvwrXo3A9Csc/aC+hvYT2wj8pXI/C9Si8Pw==",
          "dtype": "f8"
         }
        }
       ],
       "layout": {
        "autosize": true,
        "coloraxis": {
         "cmax": 0.3333333333333333,
         "cmin": -0.14285714285714285,
         "colorbar": {
          "title": {
           "text": "mean_sentiment"
          }
         },
         "colorscale": [
          [
           0,
           "rgb(165,0,38)"
          ],
          [
           0.1,
           "rgb(215,48,39)"
          ],
          [
           0.2,
           "rgb(244,109,67)"
          ],
          [
           0.3,
           "rgb(253,174,97)"
          ],
          [
           0.4,
           "rgb(254,224,139)"
          ],
          [
           0.5,
           "rgb(255,255,191)"
          ],
          [
           0.6,
           "rgb(217,239,139)"
          ],
          [
           0.7,
           "rgb(166,217,106)"
          ],
          [
           0.8,
           "rgb(102,189,99)"
          ],
          [
           0.9,
           "rgb(26,152,80)"
          ],
          [
           1,
           "rgb(0,104,55)"
          ]
         ]
        },
        "geo": {
         "center": {},
         "domain": {
          "x": [
           0,
           1
          ],
          "y": [
           0,
           1
          ]
         }
        },
        "legend": {
         "tracegroupgap": 0
        },
        "template": {
         "data": {
          "bar": [
           {
            "error_x": {
             "color": "#2a3f5f"
            },
            "error_y": {
             "color": "#2a3f5f"
            },
            "marker": {
             "line": {
              "color": "#E5ECF6",
              "width": 0.5
             },
             "pattern": {
              "fillmode": "overlay",
              "size": 10,
              "solidity": 0.2
             }
            },
            "type": "bar"
           }
          ],
          "barpolar": [
           {
            "marker": {
             "line": {
              "color": "#E5ECF6",
              "width": 0.5
             },
             "pattern": {
              "fillmode": "overlay",
              "size": 10,
              "solidity": 0.2
             }
            },
            "type": "barpolar"
           }
          ],
          "carpet": [
           {
            "aaxis": {
             "endlinecolor": "#2a3f5f",
             "gridcolor": "white",
             "linecolor": "white",
             "minorgridcolor": "white",
             "startlinecolor": "#2a3f5f"
            },
            "baxis": {
             "endlinecolor": "#2a3f5f",
             "gridcolor": "white",
             "linecolor": "white",
             "minorgridcolor": "white",
             "startlinecolor": "#2a3f5f"
            },
            "type": "carpet"
           }
          ],
          "choropleth": [
           {
            "colorbar": {
             "outlinewidth": 0,
             "ticks": ""
            },
            "type": "choropleth"
           }
          ],
          "contour": [
           {
            "colorbar": {
             "outlinewidth": 0,
             "ticks": ""
            },
            "colorscale": [
             [
              0,
              "#0d0887"
             ],
             [
              0.1111111111111111,
              "#46039f"
             ],
             [
              0.2222222222222222,
              "#7201a8"
             ],
             [
              0.3333333333333333,
              "#9c179e"
             ],
             [
              0.4444444444444444,
              "#bd3786"
             ],
             [
              0.5555555555555556,
              "#d8576b"
             ],
             [
              0.6666666666666666,
              "#ed7953"
             ],
             [
              0.7777777777777778,
              "#fb9f3a"
             ],
             [
              0.8888888888888888,
              "#fdca26"
             ],
             [
              1,
              "#f0f921"
             ]
            ],
            "type": "contour"
           }
          ],
          "contourcarpet": [
           {
            "colorbar": {
             "outlinewidth": 0,
             "ticks": ""
            },
            "type": "contourcarpet"
           }
          ],
          "heatmap": [
           {
            "colorbar": {
             "outlinewidth": 0,
             "ticks": ""
            },
            "colorscale": [
             [
              0,
              "#0d0887"
             ],
             [
              0.1111111111111111,
              "#46039f"
             ],
             [
              0.2222222222222222,
              "#7201a8"
             ],
             [
              0.3333333333333333,
              "#9c179e"
             ],
             [
              0.4444444444444444,
              "#bd3786"
             ],
             [
              0.5555555555555556,
              "#d8576b"
             ],
             [
              0.6666666666666666,
              "#ed7953"
             ],
             [
              0.7777777777777778,
              "#fb9f3a"
             ],
             [
              0.8888888888888888,
              "#fdca26"
             ],
             [
              1,
              "#f0f921"
             ]
            ],
            "type": "heatmap"
           }
          ],
          "histogram": [
           {
            "marker": {
             "pattern": {
              "fillmode": "overlay",
              "size": 10,
              "solidity": 0.2
             }
            },
            "type": "histogram"
           }
          ],
          "histogram2d": [
           {
            "colorbar": {
             "outlinewidth": 0,
             "ticks": ""
            },
            "colorscale": [
             [
              0,
              "#0d0887"
             ],
             [
              0.1111111111111111,
              "#46039f"
             ],
             [
              0.2222222222222222,
              "#7201a8"
             ],
             [
              0.3333333333333333,
              "#9c179e"
             ],
             [
              0.4444444444444444,
              "#bd3786"
             ],
             [
              0.5555555555555556,
              "#d8576b"
             ],
             [
              0.6666666666666666,
              "#ed7953"
             ],
             [
              0.7777777777777778,
              "#fb9f3a"
             ],
             [
              0.8888888888888888,
              "#fdca26"
             ],
             [
              1,
              "#f0f921"
             ]
            ],
            "type": "histogram2d"
           }
          ],
          "histogram2dcontour": [
           {
            "colorbar": {
             "outlinewidth": 0,
             "ticks": ""
            },
            "colorscale": [
             [
              0,
              "#0d0887"
             ],
             [
              0.1111111111111111,
              "#46039f"
             ],
             [
              0.2222222222222222,
              "#7201a8"
             ],
             [
              0.3333333333333333,
              "#9c179e"
             ],
             [
              0.4444444444444444,
              "#bd3786"
             ],
             [
              0.5555555555555556,
              "#d8576b"
             ],
             [
              0.6666666666666666,
              "#ed7953"
             ],
             [
              0.7777777777777778,
              "#fb9f3a"
             ],
             [
              0.8888888888888888,
              "#fdca26"
             ],
             [
              1,
              "#f0f921"
             ]
            ],
            "type": "histogram2dcontour"
           }
          ],
          "mesh3d": [
           {
            "colorbar": {
             "outlinewidth": 0,
             "ticks": ""
            },
            "type": "mesh3d"
           }
          ],
          "parcoords": [
           {
            "line": {
             "colorbar": {
              "outlinewidth": 0,
              "ticks": ""
             }
            },
            "type": "parcoords"
           }
          ],
          "pie": [
           {
            "automargin": true,
            "type": "pie"
           }
          ],
          "scatter": [
           {
            "fillpattern": {
             "fillmode": "overlay",
             "size": 10,
             "solidity": 0.2
            },
            "type": "scatter"
           }
          ],
          "scatter3d": [
           {
            "line": {
             "colorbar": {
              "outlinewidth": 0,
              "ticks": ""
             }
            },
            "marker": {
             "colorbar": {
              "outlinewidth": 0,
              "ticks": ""
             }
            },
            "type": "scatter3d"
           }
          ],
          "scattercarpet": [
           {
            "marker": {
             "colorbar": {
              "outlinewidth": 0,
              "ticks": ""
             }
            },
            "type": "scattercarpet"
           }
          ],
          "scattergeo": [
           {
            "marker": {
             "colorbar": {
              "outlinewidth": 0,
              "ticks": ""
             }
            },
            "type": "scattergeo"
           }
          ],
          "scattergl": [
           {
            "marker": {
             "colorbar": {
              "outlinewidth": 0,
              "ticks": ""
             }
            },
            "type": "scattergl"
           }
          ],
          "scattermap": [
           {
            "marker": {
             "colorbar": {
              "outlinewidth": 0,
              "ticks": ""
             }
            },
            "type": "scattermap"
           }
          ],
          "scattermapbox": [
           {
            "marker": {
             "colorbar": {
              "outlinewidth": 0,
              "ticks": ""
             }
            },
            "type": "scattermapbox"
           }
          ],
          "scatterpolar": [
           {
            "marker": {
             "colorbar": {
              "outlinewidth": 0,
              "ticks": ""
             }
            },
            "type": "scatterpolar"
           }
          ],
          "scatterpolargl": [
           {
            "marker": {
             "colorbar": {
              "outlinewidth": 0,
              "ticks": ""
             }
            },
            "type": "scatterpolargl"
           }
          ],
          "scatterternary": [
           {
            "marker": {
             "colorbar": {
              "outlinewidth": 0,
              "ticks": ""
             }
            },
            "type": "scatterternary"
           }
          ],
          "surface": [
           {
            "colorbar": {
             "outlinewidth": 0,
             "ticks": ""
            },
            "colorscale": [
             [
              0,
              "#0d0887"
             ],
             [
              0.1111111111111111,
              "#46039f"
             ],
             [
              0.2222222222222222,
              "#7201a8"
             ],
             [
              0.3333333333333333,
              "#9c179e"
             ],
             [
              0.4444444444444444,
              "#bd3786"
             ],
             [
              0.5555555555555556,
              "#d8576b"
             ],
             [
              0.6666666666666666,
              "#ed7953"
             ],
             [
              0.7777777777777778,
              "#fb9f3a"
             ],
             [
              0.8888888888888888,
              "#fdca26"
             ],
             [
              1,
              "#f0f921"
             ]
            ],
            "type": "surface"
           }
          ],
          "table": [
           {
            "cells": {
             "fill": {
              "color": "#EBF0F8"
             },
             "line": {
              "color": "white"
             }
            },
            "header": {
             "fill": {
              "color": "#C8D4E3"
             },
             "line": {
              "color": "white"
             }
            },
            "type": "table"
           }
          ]
         },
         "layout": {
          "annotationdefaults": {
           "arrowcolor": "#2a3f5f",
           "arrowhead": 0,
           "arrowwidth": 1
          },
          "autotypenumbers": "strict",
          "coloraxis": {
           "colorbar": {
            "outlinewidth": 0,
            "ticks": ""
           }
          },
          "colorscale": {
           "diverging": [
            [
             0,
             "#8e0152"
            ],
            [
             0.1,
             "#c51b7d"
            ],
            [
             0.2,
             "#de77ae"
            ],
            [
             0.3,
             "#f1b6da"
            ],
            [
             0.4,
             "#fde0ef"
            ],
            [
             0.5,
             "#f7f7f7"
            ],
            [
             0.6,
             "#e6f5d0"
            ],
            [
             0.7,
             "#b8e186"
            ],
            [
             0.8,
             "#7fbc41"
            ],
            [
             0.9,
             "#4d9221"
            ],
            [
             1,
             "#276419"
            ]
           ],
           "sequential": [
            [
             0,
             "#0d0887"
            ],
            [
             0.1111111111111111,
             "#46039f"
            ],
            [
             0.2222222222222222,
             "#7201a8"
            ],
            [
             0.3333333333333333,
             "#9c179e"
            ],
            [
             0.4444444444444444,
             "#bd3786"
            ],
            [
             0.5555555555555556,
             "#d8576b"
            ],
            [
             0.6666666666666666,
             "#ed7953"
            ],
            [
             0.7777777777777778,
             "#fb9f3a"
            ],
            [
             0.8888888888888888,
             "#fdca26"
            ],
            [
             1,
             "#f0f921"
            ]
           ],
           "sequentialminus": [
            [
             0,
             "#0d0887"
            ],
            [
             0.1111111111111111,
             "#46039f"
            ],
            [
             0.2222222222222222,
             "#7201a8"
            ],
            [
             0.3333333333333333,
             "#9c179e"
            ],
            [
             0.4444444444444444,
             "#bd3786"
            ],
            [
             0.5555555555555556,
             "#d8576b"
            ],
            [
             0.6666666666666666,
             "#ed7953"
            ],
            [
             0.7777777777777778,
             "#fb9f3a"
            ],
            [
             0.8888888888888888,
             "#fdca26"
            ],
            [
             1,
             "#f0f921"
            ]
           ]
          },
          "colorway": [
           "#636efa",
           "#EF553B",
           "#00cc96",
           "#ab63fa",
           "#FFA15A",
           "#19d3f3",
           "#FF6692",
           "#B6E880",
           "#FF97FF",
           "#FECB52"
          ],
          "font": {
           "color": "#2a3f5f"
          },
          "geo": {
           "bgcolor": "white",
           "lakecolor": "white",
           "landcolor": "#E5ECF6",
           "showlakes": true,
           "showland": true,
           "subunitcolor": "white"
          },
          "hoverlabel": {
           "align": "left"
          },
          "hovermode": "closest",
          "mapbox": {
           "style": "light"
          },
          "paper_bgcolor": "white",
          "plot_bgcolor": "#E5ECF6",
          "polar": {
           "angularaxis": {
            "gridcolor": "white",
            "linecolor": "white",
            "ticks": ""
           },
           "bgcolor": "#E5ECF6",
           "radialaxis": {
            "gridcolor": "white",
            "linecolor": "white",
            "ticks": ""
           }
          },
          "scene": {
           "xaxis": {
            "backgroundcolor": "#E5ECF6",
            "gridcolor": "white",
            "gridwidth": 2,
            "linecolor": "white",
            "showbackground": true,
            "ticks": "",
            "zerolinecolor": "white"
           },
           "yaxis": {
            "backgroundcolor": "#E5ECF6",
            "gridcolor": "white",
            "gridwidth": 2,
            "linecolor": "white",
            "showbackground": true,
            "ticks": "",
            "zerolinecolor": "white"
           },
           "zaxis": {
            "backgroundcolor": "#E5ECF6",
            "gridcolor": "white",
            "gridwidth": 2,
            "linecolor": "white",
            "showbackground": true,
            "ticks": "",
            "zerolinecolor": "white"
           }
          },
          "shapedefaults": {
           "line": {
            "color": "#2a3f5f"
           }
          },
          "ternary": {
           "aaxis": {
            "gridcolor": "white",
            "linecolor": "white",
            "ticks": ""
           },
           "baxis": {
            "gridcolor": "white",
            "linecolor": "white",
            "ticks": ""
           },
           "bgcolor": "#E5ECF6",
           "caxis": {
            "gridcolor": "white",
            "linecolor": "white",
            "ticks": ""
           }
          },
          "title": {
           "x": 0.05
          },
          "xaxis": {
           "automargin": true,
           "gridcolor": "white",
           "linecolor": "white",
           "ticks": "",
           "title": {
            "standoff": 15
           },
           "zerolinecolor": "white",
           "zerolinewidth": 2
          },
          "yaxis": {
           "automargin": true,
           "gridcolor": "white",
           "linecolor": "white",
           "ticks": "",
           "title": {
            "standoff": 15
           },
           "zerolinecolor": "white",
           "zerolinewidth": 2
          }
         }
        },
        "title": {
         "text": "success_failure – Mean sentiment (EN + NON_EN)"
        }
       }
      },
      "image/png": "[encoded data removed]"
     },
     "metadata": {},
     "output_type": "display_data"
    },
    {
     "data": {
      "application/vnd.plotly.v1+json": {
       "config": {
        "plotlyServerURL": "https://plot.ly"
       },
       "data": [
        {
         "coloraxis": "coloraxis",
         "geo": "geo",
         "hovertemplate": "<b>%{hovertext}</b><br><br>iso3=%{location}<br>positive_ratio=%{z}<extra></extra>",
         "hovertext": [
          "Australia",
          "Canada",
          "China",
          "France",
          "Germany",
          "India",
          "Ireland",
          "Kenya",
          "New Zealand",
          "Pakistan",
          "Philippines",
          "Russia",
          "Singapore",
          "South Africa",
          "Spain",
          "United Kingdom",
          "United States"
         ],
         "locations": [
          "AUS",
          "CAN",
          "CHN",
          "FRA",
          "DEU",
          "IND",
          "IRL",
          "KEN",
          "NZL",
          "PAK",
          "PHL",
          "RUS",
          "SGP",
          "ZAF",
          "ESP",
          "GBR",
          "USA"
         ],
         "name": "",
         "type": "choropleth",
         "z": {
          "_inputArray": {
           "0": 0.3333333333333333,
           "1": 0.3333333333333333,
           "10": 0,
           "11": 0.18,
           "12": 0.2,
           "13": 0.11363636363636363,
           "14": 0.22,
           "15": 0.18518518518518517,
           "16": 0.16,
           "2": 0.11267605633802817,
           "3": 0.34,
           "4": 0.05,
           "5": 0.23809523809523808,
           "6": 0.14285714285714285,
           "7": 0,
           "8": 0.3333333333333333,
           "9": 0,
           "bdata": "VVVVVVVV1T9VVVVVVVXVPwubA4lW2Lw/w/UoXI/C1T+amZmZmZmpP57neZ7nec4/kiRJkiRJwj8AAAAAAAAAAFVVVVVVVdU/AAAAAAAAAAAAAAAAAAAAAArXo3A9Csc/mpmZmZmZyT8XXXTRRRe9Pylcj8L1KMw/QnsJ7SW0xz97FK5H4XrEPw==",
           "dtype": "f8",
           "shape": "17"
          },
          "bdata": "VVVVVVVV1T9VVVVVVVXVPwubA4lW2Lw/w/UoXI/C1T+amZmZmZmpP57neZ7nec4/kiRJkiRJwj8AAAAAAAAAAFVVVVVVVdU/AAAAAAAAAAAAAAAAAAAAAArXo3A9Csc/mpmZmZmZyT8XXXTRRRe9Pylcj8L1KMw/QnsJ7SW0xz97FK5H4XrEPw==",
          "dtype": "f8"
         }
        }
       ],
       "layout": {
        "autosize": true,
        "coloraxis": {
         "cmax": 0.34,
         "cmin": 0,
         "colorbar": {
          "title": {
           "text": "positive_ratio"
          }
         },
         "colorscale": [
          [
           0,
           "rgb(165,0,38)"
          ],
          [
           0.1,
           "rgb(215,48,39)"
          ],
          [
           0.2,
           "rgb(244,109,67)"
          ],
          [
           0.3,
           "rgb(253,174,97)"
          ],
          [
           0.4,
           "rgb(254,224,139)"
          ],
          [
           0.5,
           "rgb(255,255,191)"
          ],
          [
           0.6,
           "rgb(217,239,139)"
          ],
          [
           0.7,
           "rgb(166,217,106)"
          ],
          [
           0.8,
           "rgb(102,189,99)"
          ],
          [
           0.9,
           "rgb(26,152,80)"
          ],
          [
           1,
           "rgb(0,104,55)"
          ]
         ]
        },
        "geo": {
         "center": {},
         "domain": {
          "x": [
           0,
           1
          ],
          "y": [
           0,
           1
          ]
         }
        },
        "legend": {
         "tracegroupgap": 0
        },
        "template": {
         "data": {
          "bar": [
           {
            "error_x": {
             "color": "#2a3f5f"
            },
            "error_y": {
             "color": "#2a3f5f"
            },
            "marker": {
             "line": {
              "color": "#E5ECF6",
              "width": 0.5
             },
             "pattern": {
              "fillmode": "overlay",
              "size": 10,
              "solidity": 0.2
             }
            },
            "type": "bar"
           }
          ],
          "barpolar": [
           {
            "marker": {
             "line": {
              "color": "#E5ECF6",
              "width": 0.5
             },
             "pattern": {
              "fillmode": "overlay",
              "size": 10,
              "solidity": 0.2
             }
            },
            "type": "barpolar"
           }
          ],
          "carpet": [
           {
            "aaxis": {
             "endlinecolor": "#2a3f5f",
             "gridcolor": "white",
             "linecolor": "white",
             "minorgridcolor": "white",
             "startlinecolor": "#2a3f5f"
            },
            "baxis": {
             "endlinecolor": "#2a3f5f",
             "gridcolor": "white",
             "linecolor": "white",
             "minorgridcolor": "white",
             "startlinecolor": "#2a3f5f"
            },
            "type": "carpet"
           }
          ],
          "choropleth": [
           {
            "colorbar": {
             "outlinewidth": 0,
             "ticks": ""
            },
            "type": "choropleth"
           }
          ],
          "contour": [
           {
            "colorbar": {
             "outlinewidth": 0,
             "ticks": ""
            },
            "colorscale": [
             [
              0,
              "#0d0887"
             ],
             [
              0.1111111111111111,
              "#46039f"
             ],
             [
              0.2222222222222222,
              "#7201a8"
             ],
             [
              0.3333333333333333,
              "#9c179e"
             ],
             [
              0.4444444444444444,
              "#bd3786"
             ],
             [
              0.5555555555555556,
              "#d8576b"
             ],
             [
              0.6666666666666666,
              "#ed7953"
             ],
             [
              0.7777777777777778,
              "#fb9f3a"
             ],
             [
              0.8888888888888888,
              "#fdca26"
             ],
             [
              1,
              "#f0f921"
             ]
            ],
            "type": "contour"
           }
          ],
          "contourcarpet": [
           {
            "colorbar": {
             "outlinewidth": 0,
             "ticks": ""
            },
            "type": "contourcarpet"
           }
          ],
          "heatmap": [
           {
            "colorbar": {
             "outlinewidth": 0,
             "ticks": ""
            },
            "colorscale": [
             [
              0,
              "#0d0887"
             ],
             [
              0.1111111111111111,
              "#46039f"
             ],
             [
              0.2222222222222222,
              "#7201a8"
             ],
             [
              0.3333333333333333,
              "#9c179e"
             ],
             [
              0.4444444444444444,
              "#bd3786"
             ],
             [
              0.5555555555555556,
              "#d8576b"
             ],
             [
              0.6666666666666666,
              "#ed7953"
             ],
             [
              0.7777777777777778,
              "#fb9f3a"
             ],
             [
              0.8888888888888888,
              "#fdca26"
             ],
             [
              1,
              "#f0f921"
             ]
            ],
            "type": "heatmap"
           }
          ],
          "histogram": [
           {
            "marker": {
             "pattern": {
              "fillmode": "overlay",
              "size": 10,
              "solidity": 0.2
             }
            },
            "type": "histogram"
           }
          ],
          "histogram2d": [
           {
            "colorbar": {
             "outlinewidth": 0,
             "ticks": ""
            },
            "colorscale": [
             [
              0,
              "#0d0887"
             ],
             [
              0.1111111111111111,
              "#46039f"
             ],
             [
              0.2222222222222222,
              "#7201a8"
             ],
             [
              0.3333333333333333,
              "#9c179e"
             ],
             [
              0.4444444444444444,
              "#bd3786"
             ],
             [
              0.5555555555555556,
              "#d8576b"
             ],
             [
              0.6666666666666666,
              "#ed7953"
             ],
             [
              0.7777777777777778,
              "#fb9f3a"
             ],
             [
              0.8888888888888888,
              "#fdca26"
             ],
             [
              1,
              "#f0f921"
             ]
            ],
            "type": "histogram2d"
           }
          ],
          "histogram2dcontour": [
           {
            "colorbar": {
             "outlinewidth": 0,
             "ticks": ""
            },
            "colorscale": [
             [
              0,
              "#0d0887"
             ],
             [
              0.1111111111111111,
              "#46039f"
             ],
             [
              0.2222222222222222,
              "#7201a8"
             ],
             [
              0.3333333333333333,
              "#9c179e"
             ],
             [
              0.4444444444444444,
              "#bd3786"
             ],
             [
              0.5555555555555556,
              "#d8576b"
             ],
             [
              0.6666666666666666,
              "#ed7953"
             ],
             [
              0.7777777777777778,
              "#fb9f3a"
             ],
             [
              0.8888888888888888,
              "#fdca26"
             ],
             [
              1,
              "#f0f921"
             ]
            ],
            "type": "histogram2dcontour"
           }
          ],
          "mesh3d": [
           {
            "colorbar": {
             "outlinewidth": 0,
             "ticks": ""
            },
            "type": "mesh3d"
           }
          ],
          "parcoords": [
           {
            "line": {
             "colorbar": {
              "outlinewidth": 0,
              "ticks": ""
             }
            },
            "type": "parcoords"
           }
          ],
          "pie": [
           {
            "automargin": true,
            "type": "pie"
           }
          ],
          "scatter": [
           {
            "fillpattern": {
             "fillmode": "overlay",
             "size": 10,
             "solidity": 0.2
            },
            "type": "scatter"
           }
          ],
          "scatter3d": [
           {
            "line": {
             "colorbar": {
              "outlinewidth": 0,
              "ticks": ""
             }
            },
            "marker": {
             "colorbar": {
              "outlinewidth": 0,
              "ticks": ""
             }
            },
            "type": "scatter3d"
           }
          ],
          "scattercarpet": [
           {
            "marker": {
             "colorbar": {
              "outlinewidth": 0,
              "ticks": ""
             }
            },
            "type": "scattercarpet"
           }
          ],
          "scattergeo": [
           {
            "marker": {
             "colorbar": {
              "outlinewidth": 0,
              "ticks": ""
             }
            },
            "type": "scattergeo"
           }
          ],
          "scattergl": [
           {
            "marker": {
             "colorbar": {
              "outlinewidth": 0,
              "ticks": ""
             }
            },
            "type": "scattergl"
           }
          ],
          "scattermap": [
           {
            "marker": {
             "colorbar": {
              "outlinewidth": 0,
              "ticks": ""
             }
            },
            "type": "scattermap"
           }
          ],
          "scattermapbox": [
           {
            "marker": {
             "colorbar": {
              "outlinewidth": 0,
              "ticks": ""
             }
            },
            "type": "scattermapbox"
           }
          ],
          "scatterpolar": [
           {
            "marker": {
             "colorbar": {
              "outlinewidth": 0,
              "ticks": ""
             }
            },
            "type": "scatterpolar"
           }
          ],
          "scatterpolargl": [
           {
            "marker": {
             "colorbar": {
              "outlinewidth": 0,
              "ticks": ""
             }
            },
            "type": "scatterpolargl"
           }
          ],
          "scatterternary": [
           {
            "marker": {
             "colorbar": {
              "outlinewidth": 0,
              "ticks": ""
             }
            },
            "type": "scatterternary"
           }
          ],
          "surface": [
           {
            "colorbar": {
             "outlinewidth": 0,
             "ticks": ""
            },
            "colorscale": [
             [
              0,
              "#0d0887"
             ],
             [
              0.1111111111111111,
              "#46039f"
             ],
             [
              0.2222222222222222,
              "#7201a8"
             ],
             [
              0.3333333333333333,
              "#9c179e"
             ],
             [
              0.4444444444444444,
              "#bd3786"
             ],
             [
              0.5555555555555556,
              "#d8576b"
             ],
             [
              0.6666666666666666,
              "#ed7953"
             ],
             [
              0.7777777777777778,
              "#fb9f3a"
             ],
             [
              0.8888888888888888,
              "#fdca26"
             ],
             [
              1,
              "#f0f921"
             ]
            ],
            "type": "surface"
           }
          ],
          "table": [
           {
            "cells": {
             "fill": {
              "color": "#EBF0F8"
             },
             "line": {
              "color": "white"
             }
            },
            "header": {
             "fill": {
              "color": "#C8D4E3"
             },
             "line": {
              "color": "white"
             }
            },
            "type": "table"
           }
          ]
         },
         "layout": {
          "annotationdefaults": {
           "arrowcolor": "#2a3f5f",
           "arrowhead": 0,
           "arrowwidth": 1
          },
          "autotypenumbers": "strict",
          "coloraxis": {
           "colorbar": {
            "outlinewidth": 0,
            "ticks": ""
           }
          },
          "colorscale": {
           "diverging": [
            [
             0,
             "#8e0152"
            ],
            [
             0.1,
             "#c51b7d"
            ],
            [
             0.2,
             "#de77ae"
            ],
            [
             0.3,
             "#f1b6da"
            ],
            [
             0.4,
             "#fde0ef"
            ],
            [
             0.5,
             "#f7f7f7"
            ],
            [
             0.6,
             "#e6f5d0"
            ],
            [
             0.7,
             "#b8e186"
            ],
            [
             0.8,
             "#7fbc41"
            ],
            [
             0.9,
             "#4d9221"
            ],
            [
             1,
             "#276419"
            ]
           ],
           "sequential": [
            [
             0,
             "#0d0887"
            ],
            [
             0.1111111111111111,
             "#46039f"
            ],
            [
             0.2222222222222222,
             "#7201a8"
            ],
            [
             0.3333333333333333,
             "#9c179e"
            ],
            [
             0.4444444444444444,
             "#bd3786"
            ],
            [
             0.5555555555555556,
             "#d8576b"
            ],
            [
             0.6666666666666666,
             "#ed7953"
            ],
            [
             0.7777777777777778,
             "#fb9f3a"
            ],
            [
             0.8888888888888888,
             "#fdca26"
            ],
            [
             1,
             "#f0f921"
            ]
           ],
           "sequentialminus": [
            [
             0,
             "#0d0887"
            ],
            [
             0.1111111111111111,
             "#46039f"
            ],
            [
             0.2222222222222222,
             "#7201a8"
            ],
            [
             0.3333333333333333,
             "#9c179e"
            ],
            [
             0.4444444444444444,
             "#bd3786"
            ],
            [
             0.5555555555555556,
             "#d8576b"
            ],
            [
             0.6666666666666666,
             "#ed7953"
            ],
            [
             0.7777777777777778,
             "#fb9f3a"
            ],
            [
             0.8888888888888888,
             "#fdca26"
            ],
            [
             1,
             "#f0f921"
            ]
           ]
          },
          "colorway": [
           "#636efa",
           "#EF553B",
           "#00cc96",
           "#ab63fa",
           "#FFA15A",
           "#19d3f3",
           "#FF6692",
           "#B6E880",
           "#FF97FF",
           "#FECB52"
          ],
          "font": {
           "color": "#2a3f5f"
          },
          "geo": {
           "bgcolor": "white",
           "lakecolor": "white",
           "landcolor": "#E5ECF6",
           "showlakes": true,
           "showland": true,
           "subunitcolor": "white"
          },
          "hoverlabel": {
           "align": "left"
          },
          "hovermode": "closest",
          "mapbox": {
           "style": "light"
          },
          "paper_bgcolor": "white",
          "plot_bgcolor": "#E5ECF6",
          "polar": {
           "angularaxis": {
            "gridcolor": "white",
            "linecolor": "white",
            "ticks": ""
           },
           "bgcolor": "#E5ECF6",
           "radialaxis": {
            "gridcolor": "white",
            "linecolor": "white",
            "ticks": ""
           }
          },
          "scene": {
           "xaxis": {
            "backgroundcolor": "#E5ECF6",
            "gridcolor": "white",
            "gridwidth": 2,
            "linecolor": "white",
            "showbackground": true,
            "ticks": "",
            "zerolinecolor": "white"
           },
           "yaxis": {
            "backgroundcolor": "#E5ECF6",
            "gridcolor": "white",
            "gridwidth": 2,
            "linecolor": "white",
            "showbackground": true,
            "ticks": "",
            "zerolinecolor": "white"
           },
           "zaxis": {
            "backgroundcolor": "#E5ECF6",
            "gridcolor": "white",
            "gridwidth": 2,
            "linecolor": "white",
            "showbackground": true,
            "ticks": "",
            "zerolinecolor": "white"
           }
          },
          "shapedefaults": {
           "line": {
            "color": "#2a3f5f"
           }
          },
          "ternary": {
           "aaxis": {
            "gridcolor": "white",
            "linecolor": "white",
            "ticks": ""
           },
           "baxis": {
            "gridcolor": "white",
            "linecolor": "white",
            "ticks": ""
           },
           "bgcolor": "#E5ECF6",
           "caxis": {
            "gridcolor": "white",
            "linecolor": "white",
            "ticks": ""
           }
          },
          "title": {
           "x": 0.05
          },
          "xaxis": {
           "automargin": true,
           "gridcolor": "white",
           "linecolor": "white",
           "ticks": "",
           "title": {
            "standoff": 15
           },
           "zerolinecolor": "white",
           "zerolinewidth": 2
          },
          "yaxis": {
           "automargin": true,
           "gridcolor": "white",
           "linecolor": "white",
           "ticks": "",
           "title": {
            "standoff": 15
           },
           "zerolinecolor": "white",
           "zerolinewidth": 2
          }
         }
        },
        "title": {
         "text": "success_failure – Positive share (EN + NON_EN)"
        }
       }
      },
      "image/png": "[encoded data removed]"
     },
     "metadata": {},
     "output_type": "display_data"
    },
    {
     "data": {
      "application/vnd.plotly.v1+json": {
       "config": {
        "plotlyServerURL": "https://plot.ly"
       },
       "data": [
        {
         "coloraxis": "coloraxis",
         "geo": "geo",
         "hovertemplate": "<b>%{hovertext}</b><br><br>iso3=%{location}<br>negative_ratio=%{z}<extra></extra>",
         "hovertext": [
          "Australia",
          "Canada",
          "China",
          "France",
          "Germany",
          "India",
          "Ireland",
          "Kenya",
          "New Zealand",
          "Pakistan",
          "Philippines",
          "Russia",
          "Singapore",
          "South Africa",
          "Spain",
          "United Kingdom",
          "United States"
         ],
         "locations": [
          "AUS",
          "CAN",
          "CHN",
          "FRA",
          "DEU",
          "IND",
          "IRL",
          "KEN",
          "NZL",
          "PAK",
          "PHL",
          "RUS",
          "SGP",
          "ZAF",
          "ESP",
          "GBR",
          "USA"
         ],
         "name": "",
         "type": "choropleth",
         "z": {
          "_inputArray": {
           "0": 0,
           "1": 0.1111111111111111,
           "10": 0,
           "11": 0.06,
           "12": 0,
           "13": 0.13636363636363635,
           "14": 0.04,
           "15": 0.037037037037037035,
           "16": 0.05,
           "2": 0.04225352112676056,
           "3": 0.16,
           "4": 0.03,
           "5": 0.09523809523809523,
           "6": 0.2857142857142857,
           "7": 0,
           "8": 0,
           "9": 0,
           "bdata": "AAAAAAAAAAAcx3Ecx3G8P0i0wuZAoqU/exSuR+F6xD+4HoXrUbiePxiGYRiGYbg/kiRJkiRJ0j8AAAAAAAAAAAAAAAAAAAAAAAAAAAAAAAAAAAAAAAAAALgehetRuK4/AAAAAAAAAAB00UUXXXTBP3sUrkfheqQ/aC+hvYT2oj+amZmZmZmpPw==",
           "dtype": "f8",
           "shape": "17"
          },
          "bdata": "AAAAAAAAAAAcx3Ecx3G8P0i0wuZAoqU/exSuR+F6xD+4HoXrUbiePxiGYRiGYbg/kiRJkiRJ0j8AAAAAAAAAAAAAAAAAAAAAAAAAAAAAAAAAAAAAAAAAALgehetRuK4/AAAAAAAAAAB00UUXXXTBP3sUrkfheqQ/aC+hvYT2oj+amZmZmZmpPw==",
          "dtype": "f8"
         }
        }
       ],
       "layout": {
        "autosize": true,
        "coloraxis": {
         "cmax": 0.2857142857142857,
         "cmin": 0,
         "colorbar": {
          "title": {
           "text": "negative_ratio"
          }
         },
         "colorscale": [
          [
           0,
           "rgb(165,0,38)"
          ],
          [
           0.1,
           "rgb(215,48,39)"
          ],
          [
           0.2,
           "rgb(244,109,67)"
          ],
          [
           0.3,
           "rgb(253,174,97)"
          ],
          [
           0.4,
           "rgb(254,224,139)"
          ],
          [
           0.5,
           "rgb(255,255,191)"
          ],
          [
           0.6,
           "rgb(217,239,139)"
          ],
          [
           0.7,
           "rgb(166,217,106)"
          ],
          [
           0.8,
           "rgb(102,189,99)"
          ],
          [
           0.9,
           "rgb(26,152,80)"
          ],
          [
           1,
           "rgb(0,104,55)"
          ]
         ]
        },
        "geo": {
         "center": {
          "lat": 24.852368266561605,
          "lon": 69.83984480171998
         },
         "domain": {
          "x": [
           0,
           1
          ],
          "y": [
           0,
           1
          ]
         },
         "projection": {
          "rotation": {
           "lon": 69.83984480171998
          },
          "scale": 2.2973967099940715
         }
        },
        "legend": {
         "tracegroupgap": 0
        },
        "template": {
         "data": {
          "bar": [
           {
            "error_x": {
             "color": "#2a3f5f"
            },
            "error_y": {
             "color": "#2a3f5f"
            },
            "marker": {
             "line": {
              "color": "#E5ECF6",
              "width": 0.5
             },
             "pattern": {
              "fillmode": "overlay",
              "size": 10,
              "solidity": 0.2
             }
            },
            "type": "bar"
           }
          ],
          "barpolar": [
           {
            "marker": {
             "line": {
              "color": "#E5ECF6",
              "width": 0.5
             },
             "pattern": {
              "fillmode": "overlay",
              "size": 10,
              "solidity": 0.2
             }
            },
            "type": "barpolar"
           }
          ],
          "carpet": [
           {
            "aaxis": {
             "endlinecolor": "#2a3f5f",
             "gridcolor": "white",
             "linecolor": "white",
             "minorgridcolor": "white",
             "startlinecolor": "#2a3f5f"
            },
            "baxis": {
             "endlinecolor": "#2a3f5f",
             "gridcolor": "white",
             "linecolor": "white",
             "minorgridcolor": "white",
             "startlinecolor": "#2a3f5f"
            },
            "type": "carpet"
           }
          ],
          "choropleth": [
           {
            "colorbar": {
             "outlinewidth": 0,
             "ticks": ""
            },
            "type": "choropleth"
           }
          ],
          "contour": [
           {
            "colorbar": {
             "outlinewidth": 0,
             "ticks": ""
            },
            "colorscale": [
             [
              0,
              "#0d0887"
             ],
             [
              0.1111111111111111,
              "#46039f"
             ],
             [
              0.2222222222222222,
              "#7201a8"
             ],
             [
              0.3333333333333333,
              "#9c179e"
             ],
             [
              0.4444444444444444,
              "#bd3786"
             ],
             [
              0.5555555555555556,
              "#d8576b"
             ],
             [
              0.6666666666666666,
              "#ed7953"
             ],
             [
              0.7777777777777778,
              "#fb9f3a"
             ],
             [
              0.8888888888888888,
              "#fdca26"
             ],
             [
              1,
              "#f0f921"
             ]
            ],
            "type": "contour"
           }
          ],
          "contourcarpet": [
           {
            "colorbar": {
             "outlinewidth": 0,
             "ticks": ""
            },
            "type": "contourcarpet"
           }
          ],
          "heatmap": [
           {
            "colorbar": {
             "outlinewidth": 0,
             "ticks": ""
            },
            "colorscale": [
             [
              0,
              "#0d0887"
             ],
             [
              0.1111111111111111,
              "#46039f"
             ],
             [
              0.2222222222222222,
              "#7201a8"
             ],
             [
              0.3333333333333333,
              "#9c179e"
             ],
             [
              0.4444444444444444,
              "#bd3786"
             ],
             [
              0.5555555555555556,
              "#d8576b"
             ],
             [
              0.6666666666666666,
              "#ed7953"
             ],
             [
              0.7777777777777778,
              "#fb9f3a"
             ],
             [
              0.8888888888888888,
              "#fdca26"
             ],
             [
              1,
              "#f0f921"
             ]
            ],
            "type": "heatmap"
           }
          ],
          "histogram": [
           {
            "marker": {
             "pattern": {
              "fillmode": "overlay",
              "size": 10,
              "solidity": 0.2
             }
            },
            "type": "histogram"
           }
          ],
          "histogram2d": [
           {
            "colorbar": {
             "outlinewidth": 0,
             "ticks": ""
            },
            "colorscale": [
             [
              0,
              "#0d0887"
             ],
             [
              0.1111111111111111,
              "#46039f"
             ],
             [
              0.2222222222222222,
              "#7201a8"
             ],
             [
              0.3333333333333333,
              "#9c179e"
             ],
             [
              0.4444444444444444,
              "#bd3786"
             ],
             [
              0.5555555555555556,
              "#d8576b"
             ],
             [
              0.6666666666666666,
              "#ed7953"
             ],
             [
              0.7777777777777778,
              "#fb9f3a"
             ],
             [
              0.8888888888888888,
              "#fdca26"
             ],
             [
              1,
              "#f0f921"
             ]
            ],
            "type": "histogram2d"
           }
          ],
          "histogram2dcontour": [
           {
            "colorbar": {
             "outlinewidth": 0,
             "ticks": ""
            },
            "colorscale": [
             [
              0,
              "#0d0887"
             ],
             [
              0.1111111111111111,
              "#46039f"
             ],
             [
              0.2222222222222222,
              "#7201a8"
             ],
             [
              0.3333333333333333,
              "#9c179e"
             ],
             [
              0.4444444444444444,
              "#bd3786"
             ],
             [
              0.5555555555555556,
              "#d8576b"
             ],
             [
              0.6666666666666666,
              "#ed7953"
             ],
             [
              0.7777777777777778,
              "#fb9f3a"
             ],
             [
              0.8888888888888888,
              "#fdca26"
             ],
             [
              1,
              "#f0f921"
             ]
            ],
            "type": "histogram2dcontour"
           }
          ],
          "mesh3d": [
           {
            "colorbar": {
             "outlinewidth": 0,
             "ticks": ""
            },
            "type": "mesh3d"
           }
          ],
          "parcoords": [
           {
            "line": {
             "colorbar": {
              "outlinewidth": 0,
              "ticks": ""
             }
            },
            "type": "parcoords"
           }
          ],
          "pie": [
           {
            "automargin": true,
            "type": "pie"
           }
          ],
          "scatter": [
           {
            "fillpattern": {
             "fillmode": "overlay",
             "size": 10,
             "solidity": 0.2
            },
            "type": "scatter"
           }
          ],
          "scatter3d": [
           {
            "line": {
             "colorbar": {
              "outlinewidth": 0,
              "ticks": ""
             }
            },
            "marker": {
             "colorbar": {
              "outlinewidth": 0,
              "ticks": ""
             }
            },
            "type": "scatter3d"
           }
          ],
          "scattercarpet": [
           {
            "marker": {
             "colorbar": {
              "outlinewidth": 0,
              "ticks": ""
             }
            },
            "type": "scattercarpet"
           }
          ],
          "scattergeo": [
           {
            "marker": {
             "colorbar": {
              "outlinewidth": 0,
              "ticks": ""
             }
            },
            "type": "scattergeo"
           }
          ],
          "scattergl": [
           {
            "marker": {
             "colorbar": {
              "outlinewidth": 0,
              "ticks": ""
             }
            },
            "type": "scattergl"
           }
          ],
          "scattermap": [
           {
            "marker": {
             "colorbar": {
              "outlinewidth": 0,
              "ticks": ""
             }
            },
            "type": "scattermap"
           }
          ],
          "scattermapbox": [
           {
            "marker": {
             "colorbar": {
              "outlinewidth": 0,
              "ticks": ""
             }
            },
            "type": "scattermapbox"
           }
          ],
          "scatterpolar": [
           {
            "marker": {
             "colorbar": {
              "outlinewidth": 0,
              "ticks": ""
             }
            },
            "type": "scatterpolar"
           }
          ],
          "scatterpolargl": [
           {
            "marker": {
             "colorbar": {
              "outlinewidth": 0,
              "ticks": ""
             }
            },
            "type": "scatterpolargl"
           }
          ],
          "scatterternary": [
           {
            "marker": {
             "colorbar": {
              "outlinewidth": 0,
              "ticks": ""
             }
            },
            "type": "scatterternary"
           }
          ],
          "surface": [
           {
            "colorbar": {
             "outlinewidth": 0,
             "ticks": ""
            },
            "colorscale": [
             [
              0,
              "#0d0887"
             ],
             [
              0.1111111111111111,
              "#46039f"
             ],
             [
              0.2222222222222222,
              "#7201a8"
             ],
             [
              0.3333333333333333,
              "#9c179e"
             ],
             [
              0.4444444444444444,
              "#bd3786"
             ],
             [
              0.5555555555555556,
              "#d8576b"
             ],
             [
              0.6666666666666666,
              "#ed7953"
             ],
             [
              0.7777777777777778,
              "#fb9f3a"
             ],
             [
              0.8888888888888888,
              "#fdca26"
             ],
             [
              1,
              "#f0f921"
             ]
            ],
            "type": "surface"
           }
          ],
          "table": [
           {
            "cells": {
             "fill": {
              "color": "#EBF0F8"
             },
             "line": {
              "color": "white"
             }
            },
            "header": {
             "fill": {
              "color": "#C8D4E3"
             },
             "line": {
              "color": "white"
             }
            },
            "type": "table"
           }
          ]
         },
         "layout": {
          "annotationdefaults": {
           "arrowcolor": "#2a3f5f",
           "arrowhead": 0,
           "arrowwidth": 1
          },
          "autotypenumbers": "strict",
          "coloraxis": {
           "colorbar": {
            "outlinewidth": 0,
            "ticks": ""
           }
          },
          "colorscale": {
           "diverging": [
            [
             0,
             "#8e0152"
            ],
            [
             0.1,
             "#c51b7d"
            ],
            [
             0.2,
             "#de77ae"
            ],
            [
             0.3,
             "#f1b6da"
            ],
            [
             0.4,
             "#fde0ef"
            ],
            [
             0.5,
             "#f7f7f7"
            ],
            [
             0.6,
             "#e6f5d0"
            ],
            [
             0.7,
             "#b8e186"
            ],
            [
             0.8,
             "#7fbc41"
            ],
            [
             0.9,
             "#4d9221"
            ],
            [
             1,
             "#276419"
            ]
           ],
           "sequential": [
            [
             0,
             "#0d0887"
            ],
            [
             0.1111111111111111,
             "#46039f"
            ],
            [
             0.2222222222222222,
             "#7201a8"
            ],
            [
             0.3333333333333333,
             "#9c179e"
            ],
            [
             0.4444444444444444,
             "#bd3786"
            ],
            [
             0.5555555555555556,
             "#d8576b"
            ],
            [
             0.6666666666666666,
             "#ed7953"
            ],
            [
             0.7777777777777778,
             "#fb9f3a"
            ],
            [
             0.8888888888888888,
             "#fdca26"
            ],
            [
             1,
             "#f0f921"
            ]
           ],
           "sequentialminus": [
            [
             0,
             "#0d0887"
            ],
            [
             0.1111111111111111,
             "#46039f"
            ],
            [
             0.2222222222222222,
             "#7201a8"
            ],
            [
             0.3333333333333333,
             "#9c179e"
            ],
            [
             0.4444444444444444,
             "#bd3786"
            ],
            [
             0.5555555555555556,
             "#d8576b"
            ],
            [
             0.6666666666666666,
             "#ed7953"
            ],
            [
             0.7777777777777778,
             "#fb9f3a"
            ],
            [
             0.8888888888888888,
             "#fdca26"
            ],
            [
             1,
             "#f0f921"
            ]
           ]
          },
          "colorway": [
           "#636efa",
           "#EF553B",
           "#00cc96",
           "#ab63fa",
           "#FFA15A",
           "#19d3f3",
           "#FF6692",
           "#B6E880",
           "#FF97FF",
           "#FECB52"
          ],
          "font": {
           "color": "#2a3f5f"
          },
          "geo": {
           "bgcolor": "white",
           "lakecolor": "white",
           "landcolor": "#E5ECF6",
           "showlakes": true,
           "showland": true,
           "subunitcolor": "white"
          },
          "hoverlabel": {
           "align": "left"
          },
          "hovermode": "closest",
          "mapbox": {
           "style": "light"
          },
          "paper_bgcolor": "white",
          "plot_bgcolor": "#E5ECF6",
          "polar": {
           "angularaxis": {
            "gridcolor": "white",
            "linecolor": "white",
            "ticks": ""
           },
           "bgcolor": "#E5ECF6",
           "radialaxis": {
            "gridcolor": "white",
            "linecolor": "white",
            "ticks": ""
           }
          },
          "scene": {
           "xaxis": {
            "backgroundcolor": "#E5ECF6",
            "gridcolor": "white",
            "gridwidth": 2,
            "linecolor": "white",
            "showbackground": true,
            "ticks": "",
            "zerolinecolor": "white"
           },
           "yaxis": {
            "backgroundcolor": "#E5ECF6",
            "gridcolor": "white",
            "gridwidth": 2,
            "linecolor": "white",
            "showbackground": true,
            "ticks": "",
            "zerolinecolor": "white"
           },
           "zaxis": {
            "backgroundcolor": "#E5ECF6",
            "gridcolor": "white",
            "gridwidth": 2,
            "linecolor": "white",
            "showbackground": true,
            "ticks": "",
            "zerolinecolor": "white"
           }
          },
          "shapedefaults": {
           "line": {
            "color": "#2a3f5f"
           }
          },
          "ternary": {
           "aaxis": {
            "gridcolor": "white",
            "linecolor": "white",
            "ticks": ""
           },
           "baxis": {
            "gridcolor": "white",
            "linecolor": "white",
            "ticks": ""
           },
           "bgcolor": "#E5ECF6",
           "caxis": {
            "gridcolor": "white",
            "linecolor": "white",
            "ticks": ""
           }
          },
          "title": {
           "x": 0.05
          },
          "xaxis": {
           "automargin": true,
           "gridcolor": "white",
           "linecolor": "white",
           "ticks": "",
           "title": {
            "standoff": 15
           },
           "zerolinecolor": "white",
           "zerolinewidth": 2
          },
          "yaxis": {
           "automargin": true,
           "gridcolor": "white",
           "linecolor": "white",
           "ticks": "",
           "title": {
            "standoff": 15
           },
           "zerolinecolor": "white",
           "zerolinewidth": 2
          }
         }
        },
        "title": {
         "text": "success_failure – Negative share (EN + NON_EN)"
        }
       }
      },
      "image/png": "[encoded data removed]"
     },
     "metadata": {},
     "output_type": "display_data"
    }
   ],
   "source": [
    "# --- 5) TÉRKÉPEK ---\n",
    "\n",
    "plot_four_maps_for_topic(all_news, topic_name=TOPIC_NAME, use_iso3=True)"
   ]
  },
  {
   "cell_type": "markdown",
   "id": "b8298fed-ad79-4b54-b1dd-b99ed37364e6",
   "metadata": {},
   "source": [
    "*6) „Hiszem, ha látom” – TOP példacímek*\n",
    "\n",
    "\n",
    "Nem csak számok: 10–10 pozitív/negatív cím mutatja a tipikus narratívát."
   ]
  },
  {
   "cell_type": "code",
   "execution_count": 7,
   "id": "0715ff3d-0207-4127-b084-5024f72e289e",
   "metadata": {},
   "outputs": [
    {
     "data": {
      "text/html": [
       "<div>\n",
       "<style scoped>\n",
       "    .dataframe tbody tr th:only-of-type {\n",
       "        vertical-align: middle;\n",
       "    }\n",
       "\n",
       "    .dataframe tbody tr th {\n",
       "        vertical-align: top;\n",
       "    }\n",
       "\n",
       "    .dataframe thead th {\n",
       "        text-align: right;\n",
       "    }\n",
       "</style>\n",
       "<table border=\"1\" class=\"dataframe\">\n",
       "  <thead>\n",
       "    <tr style=\"text-align: right;\">\n",
       "      <th></th>\n",
       "      <th>country</th>\n",
       "      <th>source_lang</th>\n",
       "      <th>title</th>\n",
       "      <th>sentiment</th>\n",
       "      <th>sentiment_label</th>\n",
       "      <th>source</th>\n",
       "      <th>link</th>\n",
       "    </tr>\n",
       "  </thead>\n",
       "  <tbody>\n",
       "    <tr>\n",
       "      <th>0</th>\n",
       "      <td>United States</td>\n",
       "      <td>EN</td>\n",
       "      <td>NASA Seeks Proposals for 2026 Human Exploratio...</td>\n",
       "      <td>1.0</td>\n",
       "      <td>positive</td>\n",
       "      <td>NASA (.gov)</td>\n",
       "      <td>https://news.google.com/rss/articles/CBMiuAFBV...</td>\n",
       "    </tr>\n",
       "    <tr>\n",
       "      <th>1</th>\n",
       "      <td>United States</td>\n",
       "      <td>EN</td>\n",
       "      <td>What would Mars look like in daylight? 'Enhanc...</td>\n",
       "      <td>1.0</td>\n",
       "      <td>positive</td>\n",
       "      <td>USA Today</td>\n",
       "      <td>https://news.google.com/rss/articles/CBMiqwFBV...</td>\n",
       "    </tr>\n",
       "    <tr>\n",
       "      <th>2</th>\n",
       "      <td>United States</td>\n",
       "      <td>EN</td>\n",
       "      <td>NASA’s Perseverance Rover Captures Mars Vista ...</td>\n",
       "      <td>1.0</td>\n",
       "      <td>positive</td>\n",
       "      <td>NASA Jet Propulsion Laboratory (JPL) (.gov)</td>\n",
       "      <td>https://news.google.com/rss/articles/CBMilgFBV...</td>\n",
       "    </tr>\n",
       "    <tr>\n",
       "      <th>3</th>\n",
       "      <td>United States</td>\n",
       "      <td>EN</td>\n",
       "      <td>An Area Known as ‘Falbreen’ on Mars Saw Some B...</td>\n",
       "      <td>1.0</td>\n",
       "      <td>positive</td>\n",
       "      <td>thisiscolossal.com</td>\n",
       "      <td>https://news.google.com/rss/articles/CBMibEFVX...</td>\n",
       "    </tr>\n",
       "    <tr>\n",
       "      <th>4</th>\n",
       "      <td>United States</td>\n",
       "      <td>EN</td>\n",
       "      <td>NASA seeks student entries for Human Explorati...</td>\n",
       "      <td>1.0</td>\n",
       "      <td>positive</td>\n",
       "      <td>upi.com</td>\n",
       "      <td>https://news.google.com/rss/articles/CBMikAFBV...</td>\n",
       "    </tr>\n",
       "    <tr>\n",
       "      <th>5</th>\n",
       "      <td>United States</td>\n",
       "      <td>EN</td>\n",
       "      <td>Clear skies on Mars as NASA rover captures one...</td>\n",
       "      <td>1.0</td>\n",
       "      <td>positive</td>\n",
       "      <td>BBC Sky at Night Magazine</td>\n",
       "      <td>https://news.google.com/rss/articles/CBMifEFVX...</td>\n",
       "    </tr>\n",
       "    <tr>\n",
       "      <th>6</th>\n",
       "      <td>United States</td>\n",
       "      <td>EN</td>\n",
       "      <td>NASA rover spots rock shaped like medieval hel...</td>\n",
       "      <td>1.0</td>\n",
       "      <td>positive</td>\n",
       "      <td>New York Post</td>\n",
       "      <td>https://news.google.com/rss/articles/CBMinAFBV...</td>\n",
       "    </tr>\n",
       "    <tr>\n",
       "      <th>7</th>\n",
       "      <td>United States</td>\n",
       "      <td>EN</td>\n",
       "      <td>Stunning New NASA Perseverance Rover Images Sh...</td>\n",
       "      <td>1.0</td>\n",
       "      <td>positive</td>\n",
       "      <td>SciTechDaily</td>\n",
       "      <td>https://news.google.com/rss/articles/CBMipwFBV...</td>\n",
       "    </tr>\n",
       "    <tr>\n",
       "      <th>8</th>\n",
       "      <td>United States</td>\n",
       "      <td>EN</td>\n",
       "      <td>Christine Baranski Blasts Blue Origin Flight C...</td>\n",
       "      <td>1.0</td>\n",
       "      <td>positive</td>\n",
       "      <td>People.com</td>\n",
       "      <td>https://news.google.com/rss/articles/CBMirwFBV...</td>\n",
       "    </tr>\n",
       "    <tr>\n",
       "      <th>9</th>\n",
       "      <td>United States</td>\n",
       "      <td>EN</td>\n",
       "      <td>Exclusive | NASA + ISRO + One Vision: Project ...</td>\n",
       "      <td>1.0</td>\n",
       "      <td>positive</td>\n",
       "      <td>ETV Bharat</td>\n",
       "      <td>https://news.google.com/rss/articles/CBMi0wFBV...</td>\n",
       "    </tr>\n",
       "  </tbody>\n",
       "</table>\n",
       "</div>"
      ],
      "text/plain": [
       "         country source_lang  \\\n",
       "0  United States          EN   \n",
       "1  United States          EN   \n",
       "2  United States          EN   \n",
       "3  United States          EN   \n",
       "4  United States          EN   \n",
       "5  United States          EN   \n",
       "6  United States          EN   \n",
       "7  United States          EN   \n",
       "8  United States          EN   \n",
       "9  United States          EN   \n",
       "\n",
       "                                               title  sentiment  \\\n",
       "0  NASA Seeks Proposals for 2026 Human Exploratio...        1.0   \n",
       "1  What would Mars look like in daylight? 'Enhanc...        1.0   \n",
       "2  NASA’s Perseverance Rover Captures Mars Vista ...        1.0   \n",
       "3  An Area Known as ‘Falbreen’ on Mars Saw Some B...        1.0   \n",
       "4  NASA seeks student entries for Human Explorati...        1.0   \n",
       "5  Clear skies on Mars as NASA rover captures one...        1.0   \n",
       "6  NASA rover spots rock shaped like medieval hel...        1.0   \n",
       "7  Stunning New NASA Perseverance Rover Images Sh...        1.0   \n",
       "8  Christine Baranski Blasts Blue Origin Flight C...        1.0   \n",
       "9  Exclusive | NASA + ISRO + One Vision: Project ...        1.0   \n",
       "\n",
       "  sentiment_label                                       source  \\\n",
       "0        positive                                  NASA (.gov)   \n",
       "1        positive                                    USA Today   \n",
       "2        positive  NASA Jet Propulsion Laboratory (JPL) (.gov)   \n",
       "3        positive                           thisiscolossal.com   \n",
       "4        positive                                      upi.com   \n",
       "5        positive                    BBC Sky at Night Magazine   \n",
       "6        positive                                New York Post   \n",
       "7        positive                                 SciTechDaily   \n",
       "8        positive                                   People.com   \n",
       "9        positive                                   ETV Bharat   \n",
       "\n",
       "                                                link  \n",
       "0  https://news.google.com/rss/articles/CBMiuAFBV...  \n",
       "1  https://news.google.com/rss/articles/CBMiqwFBV...  \n",
       "2  https://news.google.com/rss/articles/CBMilgFBV...  \n",
       "3  https://news.google.com/rss/articles/CBMibEFVX...  \n",
       "4  https://news.google.com/rss/articles/CBMikAFBV...  \n",
       "5  https://news.google.com/rss/articles/CBMifEFVX...  \n",
       "6  https://news.google.com/rss/articles/CBMinAFBV...  \n",
       "7  https://news.google.com/rss/articles/CBMipwFBV...  \n",
       "8  https://news.google.com/rss/articles/CBMirwFBV...  \n",
       "9  https://news.google.com/rss/articles/CBMi0wFBV...  "
      ]
     },
     "metadata": {},
     "output_type": "display_data"
    },
    {
     "data": {
      "text/html": [
       "<div>\n",
       "<style scoped>\n",
       "    .dataframe tbody tr th:only-of-type {\n",
       "        vertical-align: middle;\n",
       "    }\n",
       "\n",
       "    .dataframe tbody tr th {\n",
       "        vertical-align: top;\n",
       "    }\n",
       "\n",
       "    .dataframe thead th {\n",
       "        text-align: right;\n",
       "    }\n",
       "</style>\n",
       "<table border=\"1\" class=\"dataframe\">\n",
       "  <thead>\n",
       "    <tr style=\"text-align: right;\">\n",
       "      <th></th>\n",
       "      <th>country</th>\n",
       "      <th>source_lang</th>\n",
       "      <th>title</th>\n",
       "      <th>sentiment</th>\n",
       "      <th>sentiment_label</th>\n",
       "      <th>source</th>\n",
       "      <th>link</th>\n",
       "    </tr>\n",
       "  </thead>\n",
       "  <tbody>\n",
       "    <tr>\n",
       "      <th>0</th>\n",
       "      <td>United States</td>\n",
       "      <td>EN</td>\n",
       "      <td>CANCELLED: Muncie Three Trails Music Series – ...</td>\n",
       "      <td>-1.0</td>\n",
       "      <td>negative</td>\n",
       "      <td>Ball State University</td>\n",
       "      <td>https://news.google.com/rss/articles/CBMinAFBV...</td>\n",
       "    </tr>\n",
       "    <tr>\n",
       "      <th>1</th>\n",
       "      <td>United States</td>\n",
       "      <td>EN</td>\n",
       "      <td>California commission rejects proposal to incr...</td>\n",
       "      <td>-1.0</td>\n",
       "      <td>negative</td>\n",
       "      <td>The Hill</td>\n",
       "      <td>https://news.google.com/rss/articles/CBMikAFBV...</td>\n",
       "    </tr>\n",
       "    <tr>\n",
       "      <th>2</th>\n",
       "      <td>United States</td>\n",
       "      <td>EN</td>\n",
       "      <td>Hijacked Satellites And Orbiting Space Weapons...</td>\n",
       "      <td>-1.0</td>\n",
       "      <td>negative</td>\n",
       "      <td>ETV Bharat</td>\n",
       "      <td>https://news.google.com/rss/articles/CBMi5gFBV...</td>\n",
       "    </tr>\n",
       "    <tr>\n",
       "      <th>3</th>\n",
       "      <td>United States</td>\n",
       "      <td>EN</td>\n",
       "      <td>Critics shouldn’t block NASA’s nuclear path to...</td>\n",
       "      <td>-1.0</td>\n",
       "      <td>negative</td>\n",
       "      <td>The Hill</td>\n",
       "      <td>https://news.google.com/rss/articles/CBMihgFBV...</td>\n",
       "    </tr>\n",
       "    <tr>\n",
       "      <th>4</th>\n",
       "      <td>United States</td>\n",
       "      <td>EN</td>\n",
       "      <td>NASA Orbiter Spots Curiosity Rover Making Trac...</td>\n",
       "      <td>-1.0</td>\n",
       "      <td>negative</td>\n",
       "      <td>NASA Jet Propulsion Laboratory (JPL) (.gov)</td>\n",
       "      <td>https://news.google.com/rss/articles/CBMiogFBV...</td>\n",
       "    </tr>\n",
       "    <tr>\n",
       "      <th>5</th>\n",
       "      <td>United Kingdom</td>\n",
       "      <td>EN</td>\n",
       "      <td>The Blue Origin flight showcased the utter def...</td>\n",
       "      <td>-1.0</td>\n",
       "      <td>negative</td>\n",
       "      <td>The Guardian</td>\n",
       "      <td>https://news.google.com/rss/articles/CBMilAFBV...</td>\n",
       "    </tr>\n",
       "    <tr>\n",
       "      <th>6</th>\n",
       "      <td>Canada</td>\n",
       "      <td>EN</td>\n",
       "      <td>NASA Unveils Possible Building Blocks of Life ...</td>\n",
       "      <td>-1.0</td>\n",
       "      <td>negative</td>\n",
       "      <td>SciTechDaily</td>\n",
       "      <td>https://news.google.com/rss/articles/CBMimAFBV...</td>\n",
       "    </tr>\n",
       "    <tr>\n",
       "      <th>7</th>\n",
       "      <td>India</td>\n",
       "      <td>EN</td>\n",
       "      <td>SpaceX rocket being tested in Texas explodes, ...</td>\n",
       "      <td>-1.0</td>\n",
       "      <td>negative</td>\n",
       "      <td>The Hindu</td>\n",
       "      <td>https://news.google.com/rss/articles/CBMizgFBV...</td>\n",
       "    </tr>\n",
       "    <tr>\n",
       "      <th>8</th>\n",
       "      <td>India</td>\n",
       "      <td>EN</td>\n",
       "      <td>Weather, Rocket Issues May Further Delay India...</td>\n",
       "      <td>-1.0</td>\n",
       "      <td>negative</td>\n",
       "      <td>NDTV</td>\n",
       "      <td>https://news.google.com/rss/articles/CBMi6AFBV...</td>\n",
       "    </tr>\n",
       "    <tr>\n",
       "      <th>9</th>\n",
       "      <td>Ireland</td>\n",
       "      <td>EN</td>\n",
       "      <td>Watch: SpaceX rocket spins out of control in t...</td>\n",
       "      <td>-1.0</td>\n",
       "      <td>negative</td>\n",
       "      <td>BBC</td>\n",
       "      <td>https://news.google.com/rss/articles/CBMiV0FVX...</td>\n",
       "    </tr>\n",
       "  </tbody>\n",
       "</table>\n",
       "</div>"
      ],
      "text/plain": [
       "          country source_lang  \\\n",
       "0   United States          EN   \n",
       "1   United States          EN   \n",
       "2   United States          EN   \n",
       "3   United States          EN   \n",
       "4   United States          EN   \n",
       "5  United Kingdom          EN   \n",
       "6          Canada          EN   \n",
       "7           India          EN   \n",
       "8           India          EN   \n",
       "9         Ireland          EN   \n",
       "\n",
       "                                               title  sentiment  \\\n",
       "0  CANCELLED: Muncie Three Trails Music Series – ...       -1.0   \n",
       "1  California commission rejects proposal to incr...       -1.0   \n",
       "2  Hijacked Satellites And Orbiting Space Weapons...       -1.0   \n",
       "3  Critics shouldn’t block NASA’s nuclear path to...       -1.0   \n",
       "4  NASA Orbiter Spots Curiosity Rover Making Trac...       -1.0   \n",
       "5  The Blue Origin flight showcased the utter def...       -1.0   \n",
       "6  NASA Unveils Possible Building Blocks of Life ...       -1.0   \n",
       "7  SpaceX rocket being tested in Texas explodes, ...       -1.0   \n",
       "8  Weather, Rocket Issues May Further Delay India...       -1.0   \n",
       "9  Watch: SpaceX rocket spins out of control in t...       -1.0   \n",
       "\n",
       "  sentiment_label                                       source  \\\n",
       "0        negative                        Ball State University   \n",
       "1        negative                                     The Hill   \n",
       "2        negative                                   ETV Bharat   \n",
       "3        negative                                     The Hill   \n",
       "4        negative  NASA Jet Propulsion Laboratory (JPL) (.gov)   \n",
       "5        negative                                 The Guardian   \n",
       "6        negative                                 SciTechDaily   \n",
       "7        negative                                    The Hindu   \n",
       "8        negative                                         NDTV   \n",
       "9        negative                                          BBC   \n",
       "\n",
       "                                                link  \n",
       "0  https://news.google.com/rss/articles/CBMinAFBV...  \n",
       "1  https://news.google.com/rss/articles/CBMikAFBV...  \n",
       "2  https://news.google.com/rss/articles/CBMi5gFBV...  \n",
       "3  https://news.google.com/rss/articles/CBMihgFBV...  \n",
       "4  https://news.google.com/rss/articles/CBMiogFBV...  \n",
       "5  https://news.google.com/rss/articles/CBMilAFBV...  \n",
       "6  https://news.google.com/rss/articles/CBMimAFBV...  \n",
       "7  https://news.google.com/rss/articles/CBMizgFBV...  \n",
       "8  https://news.google.com/rss/articles/CBMi6AFBV...  \n",
       "9  https://news.google.com/rss/articles/CBMiV0FVX...  "
      ]
     },
     "metadata": {},
     "output_type": "display_data"
    }
   ],
   "source": [
    "# --- 6) TOPLISTA ---\n",
    "\n",
    "top_pos = top_examples_all(all_news, \"positive\", 10, per_country=False)\n",
    "top_neg = top_examples_all(all_news, \"negative\", 10, per_country=False)\n",
    "display(top_pos); display(top_neg)"
   ]
  }
 ],
 "metadata": {
  "kernelspec": {
   "display_name": "Python (myenv)",
   "language": "python",
   "name": "myenv"
  },
  "language_info": {
   "codemirror_mode": {
    "name": "ipython",
    "version": 3
   },
   "file_extension": ".py",
   "mimetype": "text/x-python",
   "name": "python",
   "nbconvert_exporter": "python",
   "pygments_lexer": "ipython3",
   "version": "3.12.3"
  }
 },
 "nbformat": 4,
 "nbformat_minor": 5
}
