{
 "cells": [
  {
   "cell_type": "markdown",
   "id": "d50cfc1c-1397-4c46-88b1-3a28f06aac52",
   "metadata": {},
   "source": [
    "\n",
    "Futtatás:\n",
    "1) A repo főmappájában legyen a `utils.py` és a 4 notebook:\n",
    "   01_success_failure.ipynb, 02_tech_launch.ipynb, 03_moon_mars.ipynb, 04_politics_finance.ipynb\n",
    "\n",
    "2) Nyisd meg a kívánt notebookot. A `TOPIC_NAME` és `topic_query` altéma-specifikus.\n",
    "    \n",
    "3) Első futáskor USE_CACHE = False (letöltés + elemzés + mentés).\n",
    "   Következő futásokhoz USE_CACHE = True (gyors betöltés CSV-ből).\n",
    "\n",
    "4) Eredmények: \n",
    "   - Feldolgozott cikkek: data/processed/{TOPIC_NAME}_en.csv és _non_en.csv\n",
    "   - Aggregált ország-szintű táblák: outputs/{TOPIC_NAME}/csv/...\n"
   ]
  },
  {
   "cell_type": "code",
   "execution_count": null,
   "id": "5104a69a-d790-4737-b685-2f310544b8ae",
   "metadata": {},
   "outputs": [],
   "source": []
  }
 ],
 "metadata": {
  "kernelspec": {
   "display_name": "Python (myenv)",
   "language": "python",
   "name": "myenv"
  },
  "language_info": {
   "codemirror_mode": {
    "name": "ipython",
    "version": 3
   },
   "file_extension": ".py",
   "mimetype": "text/x-python",
   "name": "python",
   "nbconvert_exporter": "python",
   "pygments_lexer": "ipython3",
   "version": "3.12.3"
  }
 },
 "nbformat": 4,
 "nbformat_minor": 5
}
